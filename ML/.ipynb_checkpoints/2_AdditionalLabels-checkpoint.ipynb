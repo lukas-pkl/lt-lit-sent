{
 "cells": [
  {
   "cell_type": "code",
   "execution_count": null,
   "metadata": {},
   "outputs": [],
   "source": [
    "import os\n",
    "import spacy\n",
    "import lt_core_news_lg\n",
    "import pandas as pd\n",
    "from sklearn.utils import shuffle\n",
    "import numpy as np\n",
    "import pickle"
   ]
  },
  {
   "cell_type": "code",
   "execution_count": null,
   "metadata": {},
   "outputs": [],
   "source": [
    "nlp = lt_core_news_lg.load()"
   ]
  },
  {
   "cell_type": "code",
   "execution_count": null,
   "metadata": {},
   "outputs": [],
   "source": [
    "text = \"\"\n",
    "\n",
    "files = [i for i in os.listdir(\"./Texts/1_batch\") if i.endswith(\".txt\")]\n",
    "for f in files :\n",
    "    with open(\"./Texts/1_batch/\"+ f ) as file :\n",
    "        text +=\"\\n\\n\" + file.read()\n"
   ]
  },
  {
   "cell_type": "code",
   "execution_count": null,
   "metadata": {},
   "outputs": [],
   "source": [
    "doc = nlp( text )"
   ]
  },
  {
   "cell_type": "code",
   "execution_count": null,
   "metadata": {},
   "outputs": [],
   "source": [
    "\n",
    "pos = [\"ADJ\" , \"ADV\"]\n",
    "\n",
    "words = [ ]\n",
    "vectors = []\n",
    "\n",
    "for tok in doc :\n",
    "    if tok.pos_ in pos and tok.has_vector == True :\n",
    "        word = tok.lemma_.lower()\n",
    "        if word not in words :\n",
    "            words.append( word )\n",
    "            vectors.append( tok.vector )\n",
    "\n",
    "print(\"Sentiment words found: \")\n",
    "print(len(words))\n"
   ]
  },
  {
   "cell_type": "code",
   "execution_count": null,
   "metadata": {},
   "outputs": [],
   "source": [
    "df = pd.DataFrame()\n",
    "df[\"words\"] = words\n",
    "df[\"vectors\"] = vectors\n",
    "\n",
    "df = shuffle( df , random_state=1001)"
   ]
  },
  {
   "cell_type": "code",
   "execution_count": null,
   "metadata": {},
   "outputs": [],
   "source": [
    "df = df.tail(2000)"
   ]
  },
  {
   "cell_type": "code",
   "execution_count": null,
   "metadata": {},
   "outputs": [],
   "source": [
    "features = np.array( list(df[\"vectors\"]))\n",
    "features.shape"
   ]
  },
  {
   "cell_type": "code",
   "execution_count": null,
   "metadata": {},
   "outputs": [],
   "source": [
    "with open(\"SentModel_1stGen.pkl\" , \"rb\") as file :\n",
    "    model = pickle.load(file)"
   ]
  },
  {
   "cell_type": "code",
   "execution_count": null,
   "metadata": {},
   "outputs": [],
   "source": [
    "preds = model.predict(features)"
   ]
  },
  {
   "cell_type": "code",
   "execution_count": null,
   "metadata": {},
   "outputs": [],
   "source": [
    "words = list(df[\"words\"])\n",
    "vectors = list(df[\"vectors\"])\n",
    "pred_labels = []\n",
    "sel_words=[]\n",
    "sel_vectors = []\n",
    "\n",
    "for index, item in enumerate( preds ):\n",
    "    if item != 0 :\n",
    "        pred_labels.append( item )\n",
    "        sel_words.append(words[index])\n",
    "        sel_vectors.append(vectors[index])\n",
    "print(len(sel_words))"
   ]
  },
  {
   "cell_type": "code",
   "execution_count": null,
   "metadata": {},
   "outputs": [],
   "source": [
    "label_correct = []\n",
    "\n",
    "values = [\"1\" , \"0\" , \"-1\" , \"break\" ]\n",
    "\n",
    "for index, item in enumerate( sel_words ):\n",
    "\n",
    "    print(index)\n",
    "    lab = input(f\"{item} is {pred_labels[index]}\")\n",
    "\n",
    "    while lab not in values :\n",
    "        lab = input(f\"{item} is {pred_labels[index]}\")\n",
    "    if lab == \"break\":\n",
    "        break\n",
    "    else:\n",
    "        label_correct.append( int(lab) )    "
   ]
  },
  {
   "cell_type": "code",
   "execution_count": null,
   "metadata": {},
   "outputs": [],
   "source": [
    "\n",
    "print(\"Labels: \", len(label_correct))\n",
    "print(\"POS: \" , label_correct.count(1))\n",
    "print(\"NEG: \", label_correct.count(-1))\n",
    "\n"
   ]
  },
  {
   "cell_type": "code",
   "execution_count": null,
   "metadata": {},
   "outputs": [],
   "source": [
    "df2 = pd.DataFrame()\n",
    "\n",
    "df2[\"words\"] = sel_words\n",
    "df2[\"vectors\"] = sel_vectors\n",
    "df2[\"labels\"] = label_correct\n",
    "\n",
    "print(df2.shape)\n",
    "print(df2.head())\n",
    "\n",
    "df2.to_pickle( \"LabelledData_2.pkl\" )\n"
   ]
  },
  {
   "cell_type": "code",
   "execution_count": null,
   "metadata": {},
   "outputs": [],
   "source": []
  }
 ],
 "metadata": {
  "kernelspec": {
   "display_name": "Python 3",
   "language": "python",
   "name": "python3"
  },
  "language_info": {
   "codemirror_mode": {
    "name": "ipython",
    "version": 3
   },
   "file_extension": ".py",
   "mimetype": "text/x-python",
   "name": "python",
   "nbconvert_exporter": "python",
   "pygments_lexer": "ipython3",
   "version": "3.7.6"
  }
 },
 "nbformat": 4,
 "nbformat_minor": 2
}
