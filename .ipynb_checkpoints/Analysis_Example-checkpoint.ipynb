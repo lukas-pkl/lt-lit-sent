{
 "cells": [
  {
   "cell_type": "markdown",
   "metadata": {},
   "source": [
    "# **Sentiment Analysis of Lithuanian literature**\n",
    "\n",
    "**Tool :** Self-made, `Spacy` based sentiment analyser\n",
    "\n",
    "**Case :** Vincas Mykolaitis - Putinas, \"Altorių šešėly\" "
   ]
  },
  {
   "cell_type": "markdown",
   "metadata": {},
   "source": [
    "### Imports"
   ]
  },
  {
   "cell_type": "code",
   "execution_count": 1,
   "metadata": {},
   "outputs": [],
   "source": [
    "import pandas as pd\n",
    "import matplotlib.pyplot as plt\n",
    "from tqdm import tqdm\n",
    "from scipy.ndimage.filters import gaussian_filter1d\n",
    "\n",
    "from sentiment import SentimentAnalyser"
   ]
  },
  {
   "cell_type": "markdown",
   "metadata": {},
   "source": [
    "### Data loading and cleaning "
   ]
  },
  {
   "cell_type": "code",
   "execution_count": 2,
   "metadata": {},
   "outputs": [],
   "source": [
    "with open(\"vincas-mykolaitis-putinas-altoriu-sesely.content.txt\") as file :\n",
    "    raw_text = file.read()"
   ]
  },
  {
   "cell_type": "code",
   "execution_count": 3,
   "metadata": {},
   "outputs": [],
   "source": [
    "raw_text = raw_text.replace(\"\\xa0\" , \" \")\n",
    "text = [i for i in raw_text.split(\"\\n\") if len(i) > 250 ]"
   ]
  },
  {
   "cell_type": "markdown",
   "metadata": {},
   "source": [
    "### Sentiment Analysis "
   ]
  },
  {
   "cell_type": "code",
   "execution_count": 4,
   "metadata": {},
   "outputs": [],
   "source": [
    "sa = SentimentAnalyser()"
   ]
  },
  {
   "cell_type": "code",
   "execution_count": 5,
   "metadata": {},
   "outputs": [
    {
     "name": "stderr",
     "output_type": "stream",
     "text": [
      "100%|██████████| 2059/2059 [00:38<00:00, 53.14it/s]\n"
     ]
    }
   ],
   "source": [
    "sents = [ sa.sentiment( i ) for i in tqdm(text) ]"
   ]
  },
  {
   "cell_type": "code",
   "execution_count": 6,
   "metadata": {},
   "outputs": [],
   "source": [
    "sums = [i[\"sum\"] for i in sents]\n",
    "means = [i[\"mean\"] for i in sents ]\n",
    "scores = [i[\"score\"] for i in sents ]"
   ]
  },
  {
   "cell_type": "code",
   "execution_count": 7,
   "metadata": {},
   "outputs": [
    {
     "name": "stdout",
     "output_type": "stream",
     "text": [
      "(2059, 4)\n"
     ]
    },
    {
     "data": {
      "text/html": [
       "<div>\n",
       "<style scoped>\n",
       "    .dataframe tbody tr th:only-of-type {\n",
       "        vertical-align: middle;\n",
       "    }\n",
       "\n",
       "    .dataframe tbody tr th {\n",
       "        vertical-align: top;\n",
       "    }\n",
       "\n",
       "    .dataframe thead th {\n",
       "        text-align: right;\n",
       "    }\n",
       "</style>\n",
       "<table border=\"1\" class=\"dataframe\">\n",
       "  <thead>\n",
       "    <tr style=\"text-align: right;\">\n",
       "      <th></th>\n",
       "      <th>text</th>\n",
       "      <th>sums</th>\n",
       "      <th>means</th>\n",
       "      <th>scores</th>\n",
       "    </tr>\n",
       "  </thead>\n",
       "  <tbody>\n",
       "    <tr>\n",
       "      <th>0</th>\n",
       "      <td>Didžiausias V. Mykolaičio-Putino kūrinys – psi...</td>\n",
       "      <td>0</td>\n",
       "      <td>0.000000</td>\n",
       "      <td>0.000000</td>\n",
       "    </tr>\n",
       "    <tr>\n",
       "      <th>1</th>\n",
       "      <td>Po ilgų svyravimų šių knygų autorius pagaliau ...</td>\n",
       "      <td>0</td>\n",
       "      <td>0.000000</td>\n",
       "      <td>0.000000</td>\n",
       "    </tr>\n",
       "    <tr>\n",
       "      <th>2</th>\n",
       "      <td>Šitas autoriaus nusistatymas dar labiau stiprė...</td>\n",
       "      <td>-1</td>\n",
       "      <td>-0.025000</td>\n",
       "      <td>-0.075000</td>\n",
       "    </tr>\n",
       "    <tr>\n",
       "      <th>3</th>\n",
       "      <td>Šių knygų autoriui jau nuo daugelio metų ypati...</td>\n",
       "      <td>1</td>\n",
       "      <td>0.090909</td>\n",
       "      <td>0.090909</td>\n",
       "    </tr>\n",
       "    <tr>\n",
       "      <th>4</th>\n",
       "      <td>Be to, ir grynai meniški sumetimai palenkė aut...</td>\n",
       "      <td>5</td>\n",
       "      <td>0.357143</td>\n",
       "      <td>1.785714</td>\n",
       "    </tr>\n",
       "  </tbody>\n",
       "</table>\n",
       "</div>"
      ],
      "text/plain": [
       "                                                text  sums     means    scores\n",
       "0  Didžiausias V. Mykolaičio-Putino kūrinys – psi...     0  0.000000  0.000000\n",
       "1  Po ilgų svyravimų šių knygų autorius pagaliau ...     0  0.000000  0.000000\n",
       "2  Šitas autoriaus nusistatymas dar labiau stiprė...    -1 -0.025000 -0.075000\n",
       "3  Šių knygų autoriui jau nuo daugelio metų ypati...     1  0.090909  0.090909\n",
       "4  Be to, ir grynai meniški sumetimai palenkė aut...     5  0.357143  1.785714"
      ]
     },
     "execution_count": 7,
     "metadata": {},
     "output_type": "execute_result"
    }
   ],
   "source": [
    "df = pd.DataFrame()\n",
    "df[\"text\"] = text\n",
    "df[\"sums\"] = sums\n",
    "df[\"means\"] = means\n",
    "df[\"scores\"] = scores\n",
    "\n",
    "#df[\"index\"] = list(df.index)\n",
    "\n",
    "print(df.shape)\n",
    "df.head()"
   ]
  },
  {
   "cell_type": "markdown",
   "metadata": {},
   "source": [
    "### Checking face-validity - vieweing paragrpahs with the most positive and most negavive santiments "
   ]
  },
  {
   "cell_type": "code",
   "execution_count": 8,
   "metadata": {},
   "outputs": [
    {
     "name": "stdout",
     "output_type": "stream",
     "text": [
      "#1\n",
      "Jis pamatė liekną aukštą ponią, už Liucę didesnę, o turbūt ir gražesnę. Ji žengė lengvai, grakščiai, išdidžiai pakėlusi galvą, bet truputį šypsodamasi. Jos plaukai buvo įmantriai sušukuoti ir suvingiuoti, o ausyse karojo brangūs pašveitalai, kurie ją labai puošė. Jos tamsus rūbas neturėjo jokių ypatingų pagražinimų, bet buvo puošnus ir elegantiškas.\n",
      "#2\n",
      "Nespėjo jiedu pasikeisti keliais sakiniais, jau prieškambary subirzgė skambutis, ir trys karininkai, zirzėdami pentinais, pasirodė tarpdury. Šitie, matyt, jau buvo geri ponios Liucijos pažįstami. Visi jie puikiai atrodė, galantiškai sveikinosi, linkėjo linksmų Velykų, o pradėję ragauti gėrimus ir užkandžius, mokėjo girti šeimininkę ir kalbėti jai komplimentus. Ponia Liucija atgijo ir palinksmėjo. Vasaris matė, kad šitie vizitininkai jai vaišinti smagu ir malonu. Netrukus jis atsisveikino.\n",
      "#3\n",
      "— Aš manau, — pradėjo jis, — kad bus geriau, jei mes dar valandėlę papasninkausim ir pirmiausia atliksim programinę šio vakaro dalį. Mano mieli svečiai, be abejo, gerai pažįsta gerbiamą panelę Auksę kaip puikią pianistę; visi, bent iš vardo ir iš raštų, žinojo, o dabar ir jį patį pažino, poetą Liudą Vasarį. Jis — mano senas prietelis, bet po ilgų metų tik dabar sugrįžo į Lietuvą ir pirmą sykį dalyvauja mūsų būry. Dera tad, kad jis mus pavaišintų lauktuvėm — kokiu savo kūriniu, kurio dar mes nesame skaitę. Tinkamai nuotaikai sudaryti gal panelė Auksė malonės mum paskambinti, ką pati ras tinkamiausia šiai progai.\n"
     ]
    }
   ],
   "source": [
    "# Positive\n",
    "df2 = df.sort_values(\"scores\" , axis = 0 , ascending = False)\n",
    "\n",
    "print(\"#1\")\n",
    "print(text[list(df2.index)[0]])\n",
    "print(\"#2\")\n",
    "print(text[list(df2.index)[1]])\n",
    "print(\"#3\")\n",
    "print(text[list(df2.index)[3]])"
   ]
  },
  {
   "cell_type": "code",
   "execution_count": 9,
   "metadata": {},
   "outputs": [
    {
     "name": "stdout",
     "output_type": "stream",
     "text": [
      "#1\n",
      "Tėvas Severinas nuleidęs galvą klausė tų žodžių, ir, matyt, sunkios mintys jį slėgė. Tylėjo abudu. Buvo jau beveik visai tamsu. Vasaris įžiebė elektrą, ir žiauri šviesa, ūmai užliejusi visą kambarį, išblaškė tą sunkų susikaupimą, kuris laikė apgaubęs šeimininką ir jo rūstų svečią.\n",
      "#2\n",
      "Ir jis atsiminė visus seminarijoj girdėtus įspėjimus prieš blogų ir pavojingų knygų skaitymą. Bet kartu jam buvo skaudu tos pažinties ir tų knygų išsižadėti. Jis vėl jautėsi išskirtas ir nuskriaustas, — pasmerktas visą gyvenimą vartyti brevijoriaus lapus, dvasiškus skaitymus ir rūsčios moralės išrašytus traktatus. Sutarta su baroniene savaitė pasibaigė, o jis į dvarą nenuėjo.\n",
      "#3\n",
      "Neaprašinėsiu, kokių atgarsių tas žingsnis sukėlė visuomenėje, kokį įspūdį padarė mano šeimai — tėvams, broliams, seserims ir giminėms, — ir kiek sielvarto man dėl to teko išgyventi. Tai būtų per daug asmeniški, nors smalsiam skaitytojui gal ir įdomūs atsiminimai. Tačiau vargu ar jie turėtų platesnės, bendrinamosios reikšmės, o aš vis dėlto noriu, kad mano gyvenimo vykę ar nevykę žingsniai, mano paties aprašyti, atskleistų kažkokius buities dėsnius, kuriems žmogus noroms nenoroms paklusdamas, pildai savo uždavinį žemėje. Aš esu įsitikinęs, kad kiekvienas žmogus tokį uždavinį, paskirtį turi. Turiu savo paskirtį ir aš. Kitaip — beprasmiška būtų gyventi, beprasmiška kentėti, beprasmiška klaidžioti kryžkeliais, — ir jau ne vien beprasmiška, bet stačiai nusikalstama būti kitų skausmo priežastimi, kaip aš esu buvęs ne vieną kartą. O, kad aš savo tą paskirtį rasčiau! Kad ją suvokčiau bent savo gyvenimo kelio pabaigoje! Kad ją išskaityčiau savo gyvenimo faktuose, jausmuose, mintyse — visame tame, ką noriu šiuose lapuose atskleisti.\n"
     ]
    }
   ],
   "source": [
    "# Positive\n",
    "df3 = df.sort_values(\"scores\" , axis = 0 , ascending = True)\n",
    "\n",
    "print(\"#1\")\n",
    "print(text[list(df3.index)[0]])\n",
    "print(\"#2\")\n",
    "print(text[list(df3.index)[1]])\n",
    "print(\"#3\")\n",
    "print(text[list(df3.index)[3]])"
   ]
  },
  {
   "cell_type": "markdown",
   "metadata": {},
   "source": [
    "### Overall - is the tone of the book positive or negative?"
   ]
  },
  {
   "cell_type": "code",
   "execution_count": 10,
   "metadata": {},
   "outputs": [
    {
     "data": {
      "text/plain": [
       "0.5478387566779991"
      ]
     },
     "execution_count": 10,
     "metadata": {},
     "output_type": "execute_result"
    }
   ],
   "source": [
    "sum(df[\"sums\"])/len(df)"
   ]
  },
  {
   "cell_type": "markdown",
   "metadata": {},
   "source": [
    "Overall, the tone of the book is mildly positive."
   ]
  },
  {
   "cell_type": "code",
   "execution_count": 11,
   "metadata": {},
   "outputs": [
    {
     "data": {
      "text/plain": [
       "<matplotlib.axes._subplots.AxesSubplot at 0x7f32fac5f490>"
      ]
     },
     "execution_count": 11,
     "metadata": {},
     "output_type": "execute_result"
    },
    {
     "data": {
      "image/png": "[encoded data removed]",
      "text/plain": [
       "<Figure size 432x288 with 1 Axes>"
      ]
     },
     "metadata": {
      "needs_background": "light"
     },
     "output_type": "display_data"
    }
   ],
   "source": [
    "df[\"sums\"].hist(bins=10)"
   ]
  },
  {
   "cell_type": "markdown",
   "metadata": {},
   "source": [
    "Overwhelming majority of paragraphs are very slightly nuanced with most paragrpahs scoring around `0`."
   ]
  },
  {
   "cell_type": "markdown",
   "metadata": {},
   "source": [
    "### How does the sentimnet dynamic unfold through the book?"
   ]
  },
  {
   "cell_type": "code",
   "execution_count": 12,
   "metadata": {},
   "outputs": [
    {
     "data": {
      "text/plain": [
       "<matplotlib.axes._subplots.AxesSubplot at 0x7f32faba9750>"
      ]
     },
     "execution_count": 12,
     "metadata": {},
     "output_type": "execute_result"
    },
    {
     "data": {
      "image/png": "[encoded data removed]",
      "text/plain": [
       "<Figure size 432x288 with 1 Axes>"
      ]
     },
     "metadata": {
      "needs_background": "light"
     },
     "output_type": "display_data"
    }
   ],
   "source": [
    "df4=df[\"scores\"]\n",
    "df4.plot.line()"
   ]
  },
  {
   "cell_type": "markdown",
   "metadata": {},
   "source": [
    "Since sentimnets are detected at a paragrpah level, the data is very granular and requires additional processing become insightful."
   ]
  },
  {
   "cell_type": "markdown",
   "metadata": {},
   "source": [
    "In this case we will do this by smoothing the sentiment data using a `1-dimensional gaussian filter` from `scipy` library. "
   ]
  },
  {
   "cell_type": "code",
   "execution_count": 13,
   "metadata": {},
   "outputs": [
    {
     "data": {
      "text/plain": [
       "[<matplotlib.lines.Line2D at 0x7f32fa9907d0>]"
      ]
     },
     "execution_count": 13,
     "metadata": {},
     "output_type": "execute_result"
    },
    {
     "data": {
      "image/png": "[encoded data removed]",
      "text/plain": [
       "<Figure size 432x288 with 1 Axes>"
      ]
     },
     "metadata": {
      "needs_background": "light"
     },
     "output_type": "display_data"
    }
   ],
   "source": [
    "sent_smoothed = list(gaussian_filter1d(list(df[\"scores\"]), sigma=40))\n",
    "plt.plot(list(df.index), sent_smoothed)"
   ]
  },
  {
   "cell_type": "markdown",
   "metadata": {},
   "source": [
    "Using smoothed sentimnet, it is also possible to identify most positive and negative passages in the book (opposed to the individual paragrpahs)."
   ]
  },
  {
   "cell_type": "code",
   "execution_count": 14,
   "metadata": {},
   "outputs": [
    {
     "name": "stdout",
     "output_type": "stream",
     "text": [
      "[1561, 1562, 1563, 1564, 1565, 1566, 1567, 1568, 1569, 1570, 1571, 1572, 1573, 1574, 1575, 1576, 1577, 1578, 1579, 1580, 1581, 1582, 1583, 1584, 1585, 1586, 1587, 1588, 1589, 1590]\n",
      "1561\n",
      "Antra gera ponios Liucijos vyro savybė — tai kad jis nebuvo pavydus, nes juk nereta vyrų, kurie ir nemylėdami sekioja savo žmonas kaip koki cerberiai. Lengva numanyti, kad aplink gražią, puošnią, turtingą ir įdomią nepaslankaus biznieriaus žmoną tuoj susidarė visas ratas adoratorių. Nuėjus į balių, vos tik Glaudžiai įžengdavo pro duris, jau rūbinėj prisiplakdavo koks nors majoras, direktorius, partijos lyderis arba kitas koks žymus, galantiškas, dar neseno amžiaus ponas — ir tai dar ne vienas. Lydimi daugelio smalsių akių, jie eidavo į jaukų bufeto kampelį arba į kokį kinų, japonų ar indų stiliaus kambarį, kur vyras, užsakęs ko nors pavalgyt ir išgert, jau likdavo sėdėt visą vakarą, o žmona su palydovais fokstrotuodavo ir valsuodavo, tik protarpiais prisėsdama atsigaivinti vyno stiklu.\n",
      "1562\n",
      "Geri pažįstami kartais ir be vyro lydėdavo ponią Liuciją į balius arba į operą. Kauno poniutės, kurios tuo tarpu nuobodžiaudavo vienos, globojamos šykščių arba pavydžių vyrų, piktindavosi ponios Glaudžiuvienės elgesiu ir skleisdavo apie ją nepadorių paskalų. Bet Glaudžius ar tai dėl to, kad jam žmona maža rūpėjo, ar tai dėl to, kad jis aklai pasitikėjo jos dorybėm, nieko įtartino jos pažintyse ir pasilinksminimuose nematė.\n",
      "1563\n",
      "O ponia Liucija, gražiausią savo jaunystės laiką praleidusi gilios provincijos užkampy, dabar, patekusi į laikinosios sostinės sūkurį, pamažu ėmė gardžiuotis laisvesnio ir linksmesnio gyvenimo malonumais. Pasigardžiavusi gi tuoj sumetė, kad gyvena jau paskutinį savo amžiaus laikotarpį, kada moteris dar gali džiaugtis ir kitus džiuginti be savo didelių pastangų ir kitų pasiaukojimo. Ir ji nutarė tuo laikotarpiu pasinaudoti. Iš prigimties gyvas ir impulsyvus jos charakteris nors karo metu gerokai prigeso ir atvėso, bet vis dar liko pakankamai jautrus džiaugsmui ir nerūpestingam šypsniui. Ponia Liucija, nors ir kaip buvo prislėgta nevykusio savo šeimos gyvenimo, momentais dar būtų galėjusi žybčiot akim ir juoktis taip pat skambiai, viliojamai, kaip ir prieš 15 metų.\n",
      "1564\n",
      "Bet ji turėjo jautrią stiliaus nuovoką. Ji nujautė, kad tai, kas tinka 20 metų panelei, nebetiks 35 metų moteriai, norint ji ir jaunai atrodytų. Dėl to ponia Liucija nutarė suvaldyti jaunystėj neišeikvotą temperamento išteklių, o prisiderinti prie jos amžiui ir padėjimui tinkamo stiliaus. Jos žavumas tokiu būdu dvigubai padidėjo, nes pro rafinuotas puošnios ponios manieras kiekvienas, arčiau ją pažinęs, jautė karštą širdį ir lakią sielą.\n",
      "1565\n",
      "Tuo metu, kai Vasaris sutiko ponią Liuciją pirmą kartą teatre, jos širdis buvo laisva nuo bet kokio gilesnio susižavėjimo. Ponia Glaudžiuvienė to neparodė, bet iš tiesų šitas susitikimas ją stipriai nudžiugino. Apie Vasario parvykimą ji jau buvo žinojusi, apie literatūros vakarėlį, kuriame jis esą skaitęs dramą apie vienuolės ir kunigo vedybas, ji taip pat buvo girdėjusi. Dėl to dažnai pradėdavo jį atsiminti ir paspėlioti, koks jos gyvenimas būtų buvęs dabar, jei anuomet Vasaris būtų iš seminarijos išstojęs ir ją vedęs. Žinoma, jis taip pat galėjo žūti kare. Bet jeigu būtų likęs gyvas, kas jis dabar būtų? Aptiekininkas, juristas, profesorius ar žymus literatas? Ponia Liucija smalsiai laukė progos su juo susitikti ir pažiūrėti, kaip jis dabar atrodo. Juo labiau kad ir ją buvo pasiekę gandai, esą Liudas Paryžiuj kunigystę metęs.\n",
      "1566\n",
      "Visai netikėtai pamačiusi jį šalia savęs teatre, ji nustebo ir nudžiugo. Buvo panašu, tarsi pats likimas po ilgų nesimatymo metų staiga susodino juodu šalia vienas kito. Ponia Liucija savo džiaugsmą nuslėpė, bet visa širdim geidė jam patikti. Liudas atrodė jai labai pasikeitęs, suvyriškėjęs, subrendęs, savim pasitikįs. Ir kaip anuomet ją suintrigavo jauno klierikučio kuklumas ir nedrąsa, taip dabar traukė jo pasikeitimas ir vyriškumas. Ponia Liucija pajuto, kad jos širdies reikalai su Liudu dar nėra baigti.\n",
      "1567\n",
      "Tačiau Vasaris tokio jausmo neturėjo. Jam buvo miela atnaujinti pažintį su pirmąja jį žavėjusia moterim, bet artimesnių ryšių su ja nesitikėjo sumegsiąs. Liucė gerai aptarė jųdviejų jausmų pobūdį, sakydama, kad ji mylėjo, o jis buvo tik įsimylėjęs. Jis pats manė, kad buvo bepradedąs mylėti, bet seminarija, jo įsišventimas kunigu, jos ištekėjimas ir jo pažintis su baroniene tos meilės pumpurą galutinai sunaikino...\n",
      "1568\n",
      "Kartais, svarstydamas savo gyvenimą, jis taip pat paspėliodavo, kas būtų buvę, jeigu jis būtų iš seminarijos išstojęs ir Liucę vedęs. Ir jis manydavo, kad greičiausiai jiedu būtų sugyvenę gerai, kad jis būtų buvęs ramesnis, doresnis ir geresnis, negu kunigaudamas, bet gyvenime nieko reikšmingo greičiausiai nebūtų pasiekęs. Seminarija jau vis tiek buvo sutrukdžiusi jo mokslą, paramos jis iš niekur nesitikėjo, o karas būtų galutinai viską suardęs. Dėl to jis nelabai nė gailėjosi nesusirišęs su Liuce. Svarstydamas savo gyvenimo įvykius, paskutiniais laikais jis padarydavo išvadų, kad likimas jį veda vingiuotu keliu, kupinu abejonių, susigraužimų ir sąžinės kovų, bet kad šituo keliu eidamas jis gal pilniausiai ir vaisingiausiai pareikš savo dvasios turinį ir galų gale pasieks kokį dar jam nežinomą, bet didelį tikslą.\n",
      "1569\n",
      "Galimas daiktas, kad ir susitikimas su Aukse Gražulyte taip pat buvo viena iš tų priežasčių, dėl kurių atnaujintoji pažintis su Liuce žadino tik jo smalsumą, giliau nepaliesdama širdies. Jau tą patį vakarą, parėjęs iš ponios Glaudžiuvienės, jis atsiminė ir auksaplaukę amerikietę. Analizuodamas vienos ir kitos jam padarytą įspūdį, pirmenybę jis pripažino Auksei. Tiesa, ji nebuvo gražesnė už Liucę. Atvirkščiai, fizinis brunetės Liucės tipas Vasarį traukė stipriau negu pusiau blondinės Auksės.\n",
      "1570\n",
      "Tačiau amerikietėje Vasaris pajuto tą nepaprastą žavesį, tą neišaiškinamą jėgą, kurią kartais pajunta vyras, susitikęs su kai kuriom moterim, net jų nepažindamas ir nė vieno žodžio jom į jį nepratarus. Mistikas tai pavadintų sielų giminyste, fiziologas atrankos instinkto balsu, kabaretinės nuotaikos padauža — “sexappealiu”. Bet tai bus greičiausiai kokia paslaptinga žmogaus dvasios signalizacija, įspėjanti mus, kad štai pro šalį praėjo tas ar ta, kuri papildys gal įkyriausiai jaučiamą mūsų gyvenimo spragą. Dėl to dabar Vasario mintys ir jausmai nuolatos sukosi apie Auksę, ir nejučiom ji pradėjo tapti visų jo vidaus gyvenimo painiavų į išsprendimą vedamąja gija.\n",
      "1571\n",
      "— Aš pastebiu, — kalbėjo Varnėnas, — kad tavo poetinė kūryba dabar yra sustojusi kaip ir kokioj kryžkelėj. Tavo paskutinių metų eilėraščiai, o taip pat ir drama, su kuria mus tada supažindinai, be ankstyvesnio kartumo ir maištingumo, turi dar kažin kokios rezignacijos, juodo pesimizmo ir nevilties. Toliau šia kryptim nebėr kur eiti. Arba tu visai mesi rašęs, arba pradėsi ką nors nauja. Šitai aš pasveikinčiau.\n",
      "1572\n",
      "— Pesimistinės poezijos ligi šiol būčiau galėjęs parašyti daug daugiau, bet kas iš to? Pačiam koktu. Dėl to ir nerašau. Tu sakai — atsistojau kryžkelėj? Aš joj seniai stoviu. Tik anksčiau buvo pradžia, o dabar turbūt jau galas. Jaučiu, kad Lietuvoj aš persisversiu į vieną kurią pusę. Dabar kondensuotai dar sykį gyvenu tai, ką buvau išgyvenęs per 10 ar net 15 metų.\n",
      "1573\n",
      "— Koks nors netikėtas įvykis, dvasios sukrėtimas... O gal ir šiaip pasiryšiu atsidėti vien literatūros darbui. Meniškasis idealas taps vieninteliu viso gyvenimo tikslu. Jeigu aš turiu poeto prigimtį, tai kitaip nė negali būti. Meniški palinkimai ir aspiracijos turi formuoti gyvenimą, o ne atvirkščiai.\n",
      "1574\n",
      "— Žinoma, — pritarė Varnėnas, — gyvenimas visada turi būti formuojamas pagal kurias nors aspiracijas ir principus. Bet, atsistojus į tam tikrą ideologinę plotmę, būtų galima paklausti, ar tokiu aukščiausiu principu yra tavo poetinės aspiracijos, ar gal jos pačios reikia subordinuoti dar aukštesniam principui, ypač jeigu jau kartą tu esi su juo susirišęs? Numanai, kad aš turiu galvoj kunigystę.\n",
      "1575\n",
      "— Meškėnas, žinoma, turėjo galvoj metafizinius pagrindus, priesaikos amžinumą ir t. t. Kas išspręs? Gi patyrimas, praktika, vidaus eksperiencija, rezultatų akivaizdumas! Štai kas išspręs! Tapai mediku, o pamatei, kad esi mėsininkas, tai mesk gydęs, nes imsi žmones pjauti. Taip pat ir su kunigyste. Kokios čia metafizikos!\n",
      "1576\n",
      "— Žinai ką, brolau, — pradėjo Varnėnas, matyt, rimtai pasirengęs priešintis, — visa tai gražu teorijoj. Bet gyvenime tokis kraštutinis individualizmas gali sukelti tikrą chaosą. Mes minsime savo pažadus, mesime pareigas, blaškysimės ir nieko gera nepadarysime. Atsimink, kad žmogus yra linkęs apsigaudinėti ir pataikauti savo silpnybėm. Ieškodamas neva gyvenimo pilnybės ir vaisingumo, jis faktiškai ieškos laikinos laimės ir smagumo. Žiūrėk, tave patį apšauks hedonistu.\n",
      "1577\n",
      "— O aš nieko apskritai nekalbu. Kiekvienas težiūrie savęs. Gyvenimo teorijos tegali būti labai reliatyvios. Kai dėl manęs, aš esu ramus. Aš esu daug mąstęs, svarstęs, daug iškentėjęs, ir mano gyvenimo rezultatai man visiškai akivaizdūs. Man tas individualizmo principas tinka.\n",
      "1578\n",
      "— Be abejo. Sakai, mane apšauks hedonistu? Labai man tas rūpi, kaip mane apšauks! Pagaliau, esama visokių ir smagumų. Smagu gardžiai pavalgyt, išgert, tinginiaut, gražią moterį bučiuot — ir smagu turėt ramią sąžinę, rasti vidaus harmoniją, išspręsti paraližuojančias mūsų veikimą gyvenimo antinomijas. Kas tarp šių smagumų nemato skirtumo, tas tegul mano apie mane ką tik nori. Kas tą skirtumą mato, spręs apie mane iš mano darbų.\n",
      "1579\n",
      "Varnėnas mėgdavo, kai jo draugas pakildavo į šitokį griežtą, truputį bravūrišką toną ir, rodos, štai jau pasiryždavo žengti kokį lemiamą žingsnį tom paraližuojančiom jo kūrybą antinomijom pašalinti. Todėl, kaip dažnai per tokius pasikalbėjimus, taip ir tuomet, baigdamas ginčą, tarė:\n",
      "1580\n",
      "Rytojaus dieną Varnėnas paskambino Auksei telefonu, neva klausdamas, kaip ir kur ji ketinanti sutikti Naujuosius metus. Pasirodė, kad ji dar nieko griežtai nėra nutarusi: gal eisianti į operą, gal kur pas pažįstamus, o greičiausia sėdėsianti namie ir skambinsianti Šopeną ar Debiusi. Buvo maniusi pasikviesti ką nors pas save, bet visi tą vakarą gal būsią užimti.\n",
      "1581\n",
      "Pririnko keliolika žmonių, daugiausia tuos pačius, kurie buvo pas Varnėną. Tad sutiko ateiti ir poetas Kalnius, ir muzikas Aidužis, ir “Spindulių” redaktorius, ir dramos artistė Lapelytė, ir dar pora panelių — žmonės vis daugiausia jauni ir tarpusavy gerai sugyveną. Senis Gražulis, numanydamas, kad jam vienam gali būti nuobodu jaunųjų būry, pasikvietė porą ir vyresnio amžiaus svečių. Kompanija turėjo būti linksma ir įvairi.\n",
      "1582\n",
      "Naujųjų 1925 metų išvakarėse 9 val. Gražulių bute jau buvo šviesu, jauku ir linksma. Beveik visi svečiai jau buvo atvykę. Erdvus salionas, sujungtas su valgomuoju, skambėjo nuo kalbų ir juoko. Kompozitorius Aidužis, prisėdęs prie fortepijono, pusbalsiu arpedžijom miklino pirštus, ir šitame neprivalomam klausyti skambesių fone kiekvienas jautėsi smagiai ir jaukiai.\n",
      "1583\n",
      "Varnėnas su Vasariu, kaip to vakaro sumanytojai, atėjo pirmutiniai įsitikinti, ar panelei Auksei nebus kam reikalingas jųdviejų patarnavimas. Bet viskas jau buvo numatyta iš anksto, ir šeimininkė džiaugėsi, trumpu laiku sugebėjusi tinkamai pasiruošti.\n",
      "1584\n",
      "— A, ponas Vasaris! — nudžiugo jį pamačiusi gražioji šeimininkė. — Ir tamstai ne gėda, kad per pusę metų neatėjai manęs atlankyti ir su mano tėčiu susipažinti? Jis tamstos raštais beveik taip pat susidomėjęs kaip ir aš. Ponas Petrai, — kreipėsi ji į Varnėną, — gerai, kad bent tamsta susipratai poną Vasarį mum atvesti! Na, eiva supažindinsiu su tėčiu.\n",
      "1585\n",
      "Auksės tėvas buvo jau gana senyvas, bet dar tvirtas žmogus apie 60 metų, aukštas žilagalvis, veido apskritimu, nosies ir burnos linijom primenąs dukterį. Su svečiais jis sveikinosi maloniai šypsodamasis ir džentelmeniškai reikšdamas savo pasitenkinimą juos pas save priiminėti. Jis tuoj surado su Varnėnu bendrą kalbą ir, laukdamas savo kviestųjų “senių”, kurie vėlinosi, į jaunųjų tarpą nesimaišė.\n",
      "1586\n",
      "Susirinkus visiem, Auksė tuoj paprašė svečius vakarienės, kad paskui liktų daugiau laiko pasilinksminti ligi Naujųjų metų sutikimo. Svečiai, triukšmingai sugužėję į valgomąjį, trypė apie stalą, žiūrėdami korteles. Kiekvienas ieškojo savo vietos, o radęs žvilgčiojo į dešinę ir į kairę įsitikinti, kokią kaimynystę jam bus paskyrusi šeimininkė.\n",
      "1587\n",
      "Šitą dominuojantį jųdviejų bendravimo toną jiedu abudu jautė, ir jų nuotaika darėsi dar pakilesnė. Iš jųdviejų spinduliuojantis džiaugsmas tarsi apgaubė visus susirinkusius, nes panelė Auksė nė valandėlę nepamiršo, kad ji yra namų šeimininkė, kad jos pareiga rūpintis taip pat ir kitais svečiais. Ir ji mokėjo protarpiais kiekvienam parodyti savo dėmesį, tarti gražų žodį.\n",
      "1588\n",
      "Pakilę nuo stalo, svečiai pasisklaidė salione. Varnėnas buvo priminęs, ar nebūtų gera paklausyti panelės Auksės muzikos, bet ši atsisakė, numanydama, kad svečiai nori laisvės kiekvienas savaip jaustis ir linksmintis. Kažkas vėl pasodino Aidužį prie fortepijono “akompanuoti svečiam”, tas beakompanuodamas ėmė skambinti šokį, ir trejetas porų išėjo į saliono vidurį.\n",
      "1589\n",
      "— Ponas Liudai, — kalbėjo Auksė, vėl radusi progos prie jo prisėsti, — tamsta visą laiką gyveni vienas, užsidaręs ir, kiek galima spėti iš tamstos rastų, paskendęs juodose mintyse. Kaip tamsta jautiesi, patekęs štai į tokį linksmą žmonių būrį, kur juokiasi, šoka, niekus tauškia ir visais rūpesčiais stengiasi nusikratyti?\n",
      "1590\n",
      "— Būti linksmam žmonėse — reikia turėti šalia savęs labai artimą draugą. Aš manau, kad tikras džiaugsmas, tikras linksmumas kyla tik tuomet, kai mes galime dalintis savo išgyvenimais su kitu. Gal tiksliau bus pasakius — ne dalintis, bet jausti su juo išvidinį ryšį, bendrumą. O tai galima tik su labai artimu, sakysime, mylimu žmogum. Jeigu jo nėra, mes, matydami aplink save džiaugsmą, jausimės be galo nuskriausti, nes niekur nesi toks vienišas ir visų apleistas, kaip besilinksminančioj minioj. Dėl to ir man žmonėse, kurie linksminasi, dažniausiai liūdna.\n"
     ]
    }
   ],
   "source": [
    "#Extracting the most positive passage\n",
    "\n",
    "d = {index:item for index, item in enumerate(sent_smoothed)}\n",
    "s = sorted( d.items(), key = lambda kv:kv[1] , reverse = True)\n",
    "\n",
    "indexes = sorted([i[0] for i in s[0:30]])\n",
    "print(indexes)\n",
    "for i in indexes :\n",
    "    print(i)\n",
    "    print( text[i] )"
   ]
  },
  {
   "cell_type": "code",
   "execution_count": 15,
   "metadata": {},
   "outputs": [
    {
     "name": "stdout",
     "output_type": "stream",
     "text": [
      "[1348, 1349, 1350, 1351, 1352, 1353, 1354, 1355, 1356, 1357, 1358, 1359, 1360, 1361, 1362, 1363, 1364, 1365, 1366, 1367, 1368, 1369, 1370, 1371, 1372, 1373, 1374, 1375, 1376, 1377, 1378, 1379, 1380, 1922, 1923, 1924, 1925, 1926, 1927, 1928, 1929, 1930, 1931, 1932, 1933, 1934, 1935, 1936, 1937, 1938]\n",
      "1348\n",
      "Bet štai stotis, kuri dar gyviau sujaudina Vasario dvasią. Nedidelė geležinkelio stotis, iš kurios jis lygiai prieš 10 metų išvažiavo į tolimą Rusiją ir į platųjį pasaulį. Tuomet čia buvo didžiulis žmonių knibždėlynas. Visi keliai buvo užgrūsti Pėsčių, raitų ir važiuotų. Vargais negalais įsigrūdo jis tada, vieno karininko užtariamas, į vagono platformą ir paliko Lietuvą štai ligi šios dienos. Viskas dabar atgyja jo sujaudintoj vaizduotėj.\n",
      "1349\n",
      "O antai kelias į Kalnynus. Už penketo mylių ir dabar tebestovi bažnytkaimis ir dvaras. Vasaris dabar vėl gyvena tą klaikų įspūdį, kai nuo kalnelio pamatė griūvantį bažnyčios bokštą, kai nuo trenksmo sudrebėjo žemė. Dvaras su parku ir gražiais rūmais... Ir baronienė Rainakienė... Kur ji dabar?.. Rusijoj jis apie ją nieko negirdėjo. O klebonas Platūnas, vikaras Stripaitis, Ramutis? Beje, Stripaitis — jis skaitė laikraščiuose — dabar Seimo narys.\n",
      "1350\n",
      "Vasaris sutiko. Ėmė kalbėti apie kitus bendrus pažįsta, mus. Pasirodė, kad Meškėnas gerai pažįstąs ir docentą Varnėną, literatūros istoriką, ir advokatą Indrulį. Šis, nors ir pirmeivis, bet kaip giminaitis taip pat lankąsis pas profesorių. Su Indruliu Vasaris kadaise mokėsi vienoj gimnazijos klasėj, o prieš kelerius metus susitikdavo Ženevoj, kur tas studijavo teisę.\n",
      "1351\n",
      "Pravažiavę Kazlų Rūdos stotį, abu draugai grįžo į savo kupė. Artinosi Kaunas, ir sėdėti restorane jau nusibodo. Prof. Meškėnas teisinosi negalįs apgyvendinti Vasarį pas save, nes pats turįs tik pusantro kambario, be to, dar visoki valdybų posėdžiai, pasitarimai. O dėl butų krizės Kaune niekaip negalįs erdviau įsikurti. Liudui būsią geriausia kol kas sustoti “Rūtoj” arba “Birutėj”, o paskui pažiūrėsią.\n",
      "1352\n",
      "Nepaprastai menkas ir nuskuręs pasirodė Vasariui Kaunas po užsienio miestų. Žemutė stotis, duobėta aikštė ir kreivų, į žemę sulindusių, kiaurais stogais medinių lūšnų gatvė su kuprotu grindiniu. Iš šalių — gilūs purvini grioviai. Jis skaito parašą — Vytauto prospektas... “Prospektu” liesas kuinas, barškindamas pasagom ir klupdamas, pakniupstom velka užkeltą ant bėgių medinę dėžę, prisėstą nuskurusių piliečių. Ties pasisukimu jo vežėjas pralenkia tą krypuojantį “vienos arklio jėgos” tramvajų ir toli jį palieka užpakaly. Užsieniečiui miestas atrodo kaip išmiręs. Nei vikriai zujančių automobilių, nei blizgančių autobusų, nei įkyrių motociklų, nei nervingai skubančių praeivių. Lėtas tempas, lėtas gyvenimas. Vis žemi, prie žemės priploti namukai, kurių eilėj retas trijų aukštų pastatas džiaugiasi neaprėpiama erdve ir iš niekur neužstojama saule. Mediniai apiplaušėję stulpai abiem gatvės šonais apkrauti elektros ir telefono laidų tinklu. Audrai užėjus, jie turbūt gresia nugriūti, įpainioti praeivį į vielų voratinklį ir nužudyti stipraus įtempimo srove. O kai vėjas pūstelėja iš šoninės gatvės, pilkas dulkių ir šiukšlių debesys užberia akis ir uždengia tą skurdų reginį.\n",
      "1353\n",
      "Žiūri Vasaris į tuos laikinosios sostinės vaizdus ir ima ironizuoti pats save. Kur tu čia dingsi su savo paryžietiškais įpročiais, su maištingom mintim ir atskalūniškais norais?.. Jo nuotaika krinta, ir kažkas pilka, nuobodu ir liūdna ima skverbtis į širdį.\n",
      "1354\n",
      "Jis žino, kad tai tik pirmojo momento įspūdis. Jis žino, kad tokį Kauną paliko mum rusai, kad sostinę Vilnių pagrobė lenkai, kad pagaliau ir tuose neištaiginguose namuose kunkuliuoja didelis tautos ir valstybės kūrimo darbas. Jis žino, kad ir jam pačiam reiks stoti į tą darbą, kuriame negali būti nei apatijos, nei ištižimo, nei blogo ūpo. Jis visa tai žino, bet jausmai žinojimo neklauso.\n",
      "1355\n",
      "Bet štai ir “Rūtos” viešbutis. Jis pasiima kambarį, išsidėlioja reikalingiausius daiktus ir apsitvarkęs išeina į miestą pasižvalgyti. Įspūdis vis toks pats sunkus, slegiantis. Šoninės gatvės tuščios ir nykios, grindinys duobėtas, namai purvini, suodini, apsilupinėję. Krautuvės jau uždarytos, o jų durys ir langai uždengti lentom, geležinėm štangom ir užrakinėti didžiulėm kabančiom spynom. Jau temsta, bet gatvėse žiburių nėra, ir užsieniečiui baugu pasieniais slenkančių šešėlių. Tik Laisvės alėjoj stumdosi praeiviai ir erza svetimų kalbų mišinys.\n",
      "1356\n",
      "Jis sapnuoja, kad savo gimtinėj parapijoj laiko mišias, kad pilna bažnyčia žmonių, o netoli altoriaus stovi jo tėvas ir motina. Jis atlaiko mišias iki evangelijos, bet pamiršta, kas reikia toliau daryti. Jis lipa atgal ir pradeda iš naujo, bet dabar pamiršta Confiteor ir kartoja tik tuos vienus žodžius: Mea maxima culpa, mea maxima culpa, mea maxima culpa... Jis mato, kad klapčiukai iš jo juokiasi, o tėvai žiūri nusigandę ir liūdnai linguoja galvom...\n",
      "1357\n",
      "— Na, brolau, nesitikėjau, nesitikėjau, — kartojo jis, turbūt nė pats nežinodamas, ko nesitikėjo. — Ot, tai seniai nesimatėm!.. Kalnynus atsimeni?.. Ir atrodai pasiutiškai išsifrantinęs! Tikras paryžietis! Tik jau šėrė, velniai, turbūt pekliškai blogai, — pridėjo jis, įsižiūrėjęs į pablyškusį svečio veidą.\n",
      "1358\n",
      "Stripaitis iš tiesų atrodė gana juokingas su savo nelygintom kelnėm, apsitempusiu apie storą liemenį švarkučiu ir kreivai parištu blogu kaklaraiščiu. Jis vis taip pat trumpai mašinėle kirpo plaukus, ir ant jo sprando tebesirangė dvi sutanos apikaklės subrauktos garankštys.\n",
      "1359\n",
      "— Dirbant visuomeninį, valstybinį darbą, — ėmė aiškinti jis, — sutanoj žmogus jautiesi kaip supančiotas. Nuvažiuosi į mitingą, kunigo daug kas nė klausyt nenorės, o kitas ir nušvilps, ir nuo bačkos nuvers, velniai! Nė prasižiot neduoda. Tu, sako, kunigas, tai kitaip nė kalbėt negali! Kas kita, jeigu pasauliškis prabyla katalikiškai! Tuoj žmonės kitaip klauso. Vienoj vietoj vis dėlto įtarė, kad aš kunigas. Pasiutiškai susiėdėm! Paso pradėjo reikalauti. Vos išsisukau!\n",
      "1360\n",
      "Vasaris sveikinosi su kitais profesoriaus svečiais, kurių tarpe buvo ir advokatas Indrulis. Didelės simpatijos Vasaris jam nejautė, nes Indrulis buvo žmogus gana smulkmeniškas ir priekabingas, tačiau turėjo tą gana sunkiai suderinamą su savo būdu ypatybę, kad mėgo kiekvienam kuo nors pasitarnauti ir dėl to jaustis turįs teisę į kitų dėkingumą. Jis sveikino Vasarį kaip nuoširdų prietelį ir draugą.\n",
      "1361\n",
      "Prie stalo šalia Vasario atsisėdo Stripaitis, o priešais Indrulis. Iš profesoriaus gėrimų ir užkandžių galima buvo spręsti, kad gyvenimas Lietuvoj ne tik pakenčiamas, bet ir visai geras. Šeimininkas akyliai žiūrėjo, kad stikleliuose gėrimas per ilgai negaruotų, kad kiekvienas išgertų savąjį ligi dugno, o tuščius vėl tuoj pripildydavo. Tat svečių nuotaika kilo kaip ant mielių. Stripaitis gėrė nesiraukydamas, Indrulis “palaikė kompaniją”, stengėsi neatsilikti nė Vasaris.\n",
      "1362\n",
      "— Pasikeitęs?.. Galbūt... Juk aš ir mano karta esame dviejų epochų žmonės. Aš žengiau į gyvenimą pačiu persilaužimo momentu. Prieš karą aš nespėjau surembėti to laikotarpio formose. O paskui daug kas pasikeitė. Taip sukrėtė, kad daug kas dulkėm virto.\n",
      "1363\n",
      "— Ar ne vis tiek! Pažinojai mane vienokį, dabar matai kitokį. Bet kažin? — suabejojo jis pats. — Iš esmės gal aš nė nepasikeičiau. Anais laikais jūs manęs iš viso nepažinojot. Gal ir aš pats nepažinojau... Tik kartais nujausdavau. Kas tuomet buvo paslėpta, dabar iškilo į viršų. Per tą eilę metų aš pats save suradau. Štai kas yra!..\n",
      "1364\n",
      "Bet Vasaris pamažu jau ėmė gesti. Nerimastis, kuri jį užpuldavo paskutiniaisiais metais, ypač po keleto linksmiau praleistų valandų, štai ir dabar ėmė kilti jo širdy. Jis išsiblaškęs klausė, ką jam kalbėjo prisėdęs prie šalies kapelionas, ir ne tuoj susivokdavo atsakyti į klausimus.\n",
      "1365\n",
      "Tuo tarpu laikas bėgo. Vasaris dirstelėjo į laikrodį — buvo jau keliolika minučių po dvylikos. Jis pakilo, perėjo į kitą kambario galą, apžiūrėjo profesoriaus knygas ir jau rengėsi atsisveikinti. Bet prie jo prisiartino pats prof. Meškėnas ir draugiškai paėmė už alkūnės. Jis buvo žymiai susirūpinęs ar kuo nepatenkintas.\n",
      "1366\n",
      "— Na, tai ačiū Dievui! — lengviau atsikvėpė profesorius. — Aš, matai, neapsižiūrėjęs ne per seniai išmaukiau zelterio stiklą. O ryt, supranti, turiu gregorijanką. Jau tik dvi dienos beliko. Pavaduok mane, brolyti, — atlaikyk rytoj ta intencija mišias.\n",
      "1367\n",
      "— Hm... — neatlyžo profesorius. — Aš nemaniau, kad turėtum tokį rimtą casus conscientiae. Bet jeigu ir taip, tai galėtum ta proga ir išpažintį atlikti. Juk jei ne ryt, tai poryt mišias vis dėlto laikysi. O gal nenori vilktis sutanos? Tai gali eiti taip kaip dabar, trumpais. Seimo atstovai irgi taip eina.\n",
      "1368\n",
      "— Nieko, graži, — gana šaltai gyrė ją Indrulis. — Kojas turi puikias: pėdos mažutės, blauzdos kaip nutekintos... Tik, ot, krūtinė per menka! Žinai, aš mėgstu moteris su pilnu biustu, nors tokios dabar ir ne madoj. Bet dovanok, brolau, nesipiktink, — susigriebė jis. — Aš buvau ir pamiršęs, kad tu kunigas.\n",
      "1369\n",
      "— Kodėl?.. Anaiptol!.. Ji man labai patinka — ir aš ją myliu. Tik, matai, jau nebesu jaunuolis ir moku blaiviai įvertinti tokius dalykus. Be to, žinai, šalia sentimentų subrendusiam žmogui daug nusveria ir praktiški sumetimai. Tokia partija ne kasdien pasitaiko.\n",
      "1370\n",
      "Parėjęs į savo viešbutį, rengdamasis gulti, Vasaris mąstė apie Indrulio sužadėtinę ir spėliojo, kas ji per viena, jei negalinti suprasti tikrųjų advokato “meilės” tikslų. O dar mokyta ir muzikė!.. Paskui mintys nukrypo į rašomąjį veikalą, ir jis paskendo pusiau realybės, pusiau sapno vaizduose.\n",
      "1371\n",
      "Rytą jis pabudo gana anksti, ir pirmoji jo mintis buvo vakarykštis Meškėno prašymas atlaikyti mišias. Vasaris pajuto smagų lengvumą ir džiaugsmą, kad profesoriaus prašymą atsisakė patenkinti ir kad šitos nemalonios pareigos šiandien jam dar nereikės atlikinėti.\n",
      "1372\n",
      "Bet ar pati pareiga — mišios — jam buvo nemaloni? Ne, jis stačiai nenorėjo viešai pasirodyti esąs kunigas. Ir ne tik viešai, bet ir sau pačiam buvo kažkaip drovu, koktu ir baugu vėl įsisąmoninti savo kunigystę — ir įsisąmoninti didžiausia kunigo pareiga — Šv. mišių laikymu. Ir taip staiga, netikėtai, nepasiruošus!\n",
      "1373\n",
      "Tebepasilikdamas gulėti lovoje ir vis dar tebejausdamas malonų pasitenkinimą, kad išvengė tos pareigos, jis pabandė prisiminti, kur ir kada paskutinį kartą jis laikė mišias. Paskutiniuosius dvejus metus jis praleido Paryžiuj. Ne, Paryžiuj jis necelebravo nė karto. Anksčiau pusę metų jis gyveno Romoje. Taip, čia jis mišias dar laikė, nors ne kasdien. Čia tad ir bus jo paskutinės mišios.\n",
      "1374\n",
      "Paskui jo mintys nuslydo atgal į pirmuosius emigracijos laikus, į Rusiją. Čia jis išgyveno trejus metus. Rusijoj, daugiausia Petrapily, mišias laikydavo dar kasdien. Jis mokėsi Dvasinėj Akademijoj, kur disciplina buvo beveik tokia pat, kaip ir seminarijoj. Bet jau čia, nepaisant disciplinos, kunigiška jo dvasia pradėjo blėsti. Akademijos auklėtiniai, daugiausia jau kunigai, nepabijodavo retkarčiais tą discipliną sulaužyti.\n",
      "1375\n",
      "Vasaris, susitaręs su kuriuo nors draugu, kartais nesiprašęs išsprūsdavo į teatrą. Kartais, kai juos visus vesdavo pasivaikščioti sostinės gatvėm arba apžiūrėti kokio muziejaus ar parodos, jis su draugu smukdavo į šalį ir grįždavo į Akademijos rūmus tik apie vidunaktį. Jie vaikščiodavo Nevos prospektu, apžiūrinėdavo vitrinas, įsisukdavo į didžiuosius magazinus, o vakare eidavo į svečius pas kurį pažįstamą Petrapilio tautietį, kur neretai rasdavo ir daugiau svečių. Vienas kitas akademikas turėdavo ir civilinius rūbus, kuriuos, reikalui esant, paskolindavo ištikimiem draugam. Trumpais apsirengę, jie išvengdavo daug nemalonumų, nes sutanotus vežikai ir chuliganai dažnai išplūsdavo jėzuitais ir palydėdavo trilypiais rusiškais keiksmais.\n",
      "1376\n",
      "Akademijoje Vasariui konfliktas tarp kunigo ir poeto ėjo vis aštryn. Seminarijoj ir pirmaisiais kunigavimo metais tas konfliktas dažniausiai pasilikdavo jo viduj, jo sąžinėj, retai kada jo veiksmus ir elgesį iškreipdamas iš dvasiškojo luomo nuostatų. Čia gi, Rusijos sostinėj, tokių iškrypimų pasitaikydavo gana dažnai. Visa, kas buvo jam naudinga ir reikalinga kaip poetui: teatras, plati lektūra, santykiai su žmonėm, — visa tai jam, kaip dvasiškiui, buvo draudžiamas vaisius, kurio kiekvienas kąsnis pamažu dildydavo kunigiškus jo charakterio bruožus. Nejučiom jis ėmė atsipalaiduoti nuo kai kurių dvasiškų pareigų. Jis išgavo vyskupo leidimą ilgą ir painų brevijorių pakeisti daug patogesniu ražančium, kurį gali atkalbėti, ranką įsikišęs į kišenių, važiuodamas tramvajuj arba eidamas gatve. Meditacijas jie visi laikydavo kartu koplyčioj, bet skaitydavo jas kiekvienas iš savo knygos. O tos knygos ne visuomet būdavo tam tikslui tinkamos. Mišiom laikyti altorių ir laiko būdavo maža, o kunigų daug. Jie skubindavo ir stačiai lenktyniuodavo, kuris greičiau pabaigs.\n",
      "1377\n",
      "Paskui jam pasitaikė proga išvažiuoti į užsienį. Drąsių ir maištingų minčių sukilo tuomet jo galvoj. Pirmąsyk jam pasivaideno išsivadavimas. Nuo ko išsivadavimas? Jis aiškiai nežinojo. Gal nuo tos rutinos, gal nuo tų įpročių tuštumo, gal nuo tų vidaus konfliktų, gal nuo to liūdesio ir pesimizmo, kuris jį apsiaubdavo įsimąstymo ir įsijautimo valandom.\n",
      "1378\n",
      "Ir jis išvažiavo į tolimus, nežinomus kraštus ieškoti mokslo ir išsivadavimo. Skandinavija, Anglija, Prancūzija, Šveicarija ir Italija buvo tie kraštai, kurie per 10 metų pavadavo jam tėvynę. Jis mokėsi ir dirbo belaisvių šelpimo komitetuose, o paskui lietuvių pasiuntinybėse ir atstovybėse. Jis apsiprato su svetimais žmonėm, priprato prie civilinių rūbų, bet kunigo sąmonė jame vis dar tebebuvo gyva, ir laukiamo išsivadavimo jis nerado. Iš įpročio jis vis dar tebekalbėdavo ražančių, dažnai tuo pačiu metu mąstydamas apie pašalinius dalykus, suklupdamas “sveikamarijose” ir paslaptyse ir kartais nežinodamas, kurią ražančiaus dalį jis kalba. Kartą per mėnesį arba ir rečiau eidavo pas kokį kapuciną ar pranciškoną išpažinties, sakydavo trafaretiškas nuodėmes, išklausydavo trafaretiškų kapucino ar pranciškono pastabų ir vėl grįždavo į kasdienį darbą ir gyvenimą.\n",
      "1379\n",
      "Bet štai vėl patekęs į Paryžių ir gavęs apmokamą vietą atstovybėje, jis mišių daugiau nebelaikė. Ar čia nulėmė vien materialinės aplinkybės, jis ir pats to gerai nežinojo. Greičiausia, kad ne. Kasdienis darbas, naujos pramogos ir visa didžiulio miesto atmosfera nutraukė ir tuos paskutinius ryšius, kurie dar buvo jį sieję su kunigiškom pareigom. Jis žinojo, kad Paryžiuj gyvenantiem kunigam suspensos bausme uždrausta lankyti teatrus. Jis gi eidavo ne vien į teatrus, bet ir muzikholus, kur susidarydavo tokia nuotaika, kad stoti prie altoriaus jam atrodydavo nepakenčiamai koktu ir net šventvagiška. Bet vis dėlto jis nevengė nei tų vietų, nei tos nuotaikos. Jis manė, kad jam tai reikalinga kaip poetui, kaip literatui.\n",
      "1380\n",
      "Jis sakydavo, kad vengiąs vien sunkiosios nuodėmės, ir, teologiškai išanalizavęs savo sąžinės kazusus, tardavosi tokios nuodėmės išvengęs. Bet ilgainiui jis pradėjo nesutarti su teologija dėl kai kurių nuodėmių sunkumo. Jam atrodė neįtikima, kad, pavyzdžiui, vieną dieną nesukalbėjęs brevijoriaus arba jį pakeitusio ražančiaus, jau būtum mirtinai nusidėjęs. Jeigu jis būtų labiau domėjęsis teologijos doktrinom ir pakontroliavęs savo tikėjimą, tai būtų pamatęs, kad ir dogmų srity jam daug kas yra svetima, keista ir nepriimtina.\n",
      "1922\n",
      "Vieną kartą Vasaris susitiko čia ir kun. Stripaitį, kurio jau seniai nebuvo matęs. Po pralaimėtų rinkimų buvusis atstovas atsisakė eiti į parapiją, bet nutarė važiuoti į Ameriką rinkti aukų katalikų akcijai ir įstaigom. O prieš tai atvyko štai į Palangą pasilsėti ir pataisyti nervus.\n",
      "1923\n",
      "— Pekliškai įgriso tie visi mitingai! — skundėsi jis Vasariui. — Rinkimus prabirbinom, ką padarysi! Katalikam, žinoma, didelis smūgis. Bet aš pats, žinai, net džiaugiuosi, kad nepatekau vėl į Seimą. Išvažiuosiu į Ameriką, pamatysiu pasaulio, parinksiu aukų, na, ir pačiam bus ne pro šalį vieną kitą dolerį susitaupius. Iš ten niekas tuščiom negrįžta. O čia kas?.. Visą amžių ubagas...\n",
      "1924\n",
      "— Ne paslaptis, bet nežinau nė kaip pasakyti: nuojauta, likimas ar kas kita. Kol Liucija buvo laiminga ar bent tokia atrodė, man ji visai nė nerūpėjo. Bet dabar ji, kaip koks šešėlis, nuolatos stovi tarp manęs ir tavęs. Ji tarsi kužda man, kad aš neturiu teisės mylėti kitą moterį ir kad mano laimė visuomet bus apkartinta jos nelaimių.\n",
      "1925\n",
      "Tokia meilės filosofija Vasariui atrodė naivi, bet jis džiaugėsi, kad Auksė ja tenkinas ir nekaltina jo nepastovumu, pasikeitimu, svyravimu ir kitokiais mylinčios moteries priekaištais. Jis žinojo tik viena: kad Auksę myli, o ponios Liucijos gailisi; bet po Vytuko mirties dažnai jaučia į save atkreiptą ledinį jo motinos žvilgsnį ir negali nusikratyti kraupia nuojauta, tarsi tas žvilgsnis būtų kupinas kokios ypatingos, įspėjančios reikšmės.\n",
      "1926\n",
      "Baigiantis rugpjūčiui, Liudas Vasaris grįžo iš Palangos į Kauną. Jo atsistatydinimas nuo direktoriaus pareigų buvo priimtas, ir dabar jis pradėjo naują literato profesionalo gyvenimą. Tolimesnė ateitis jam nebuvo dar aiški, bet jis, sekdamas Auksės patarimu, stengėsi ja nė nesirūpinti. Medžiaginės aplinkybės, pragyvenimo šaltinis kol kas jo nebaugino. Jis turėjo truputį santaupų. Jo knygos ir drama tebedavė šiokių tokių pajamų, pora redakcijų ketino mokėti honorarą už straipsnius, pagaliau, jis buvo jau įpusėjęs naują dramą, kuri, jo manymu, pasiseks ne blogiau kaip pirmoji.\n",
      "1927\n",
      "Moraliai dabar jis jautėsi tarsi išsivadavęs nuo kokio slogučio. Jam nereikia po keletą valandų kas dieną sėdėti triukšmingoj gimnazijoj, rūpintis visokiais reikalais ir dėstyti pamokas, kurios jį nukamuodavo labiau negu bet koks kitas darbas. Kaip daugelis kontempliatyvaus būdo žmonių, jis nebuvo linkęs bendrauti su kitais, sakyti savo mintis, juoba kalbėti apie visai jam neįdomius dalykus. Būdavo dienų, kada jis kaip didžiausios laimės troško nematyti jokio žmogaus ir netarti nė vieno žodžio. Bet jam reikėjo eiti į gimnaziją, spręsti visokius mokytojų ir mokinių nesusipratimus, dėstyti pamokas ir kalbėti, kalbėti, kalbėti!.. Jo pamokos dažnai būdavo nuolatinis savęs terorizavimas, minčių ir žodžių graibstymas, kad neįkristų į juodą tylėjimo bedugnę. Po tokios pamokos jis jausdavosi prislėgtas, pažemintas ir jau visą dieną negalėdavo nusikratyti ta bjauria savo negalės savijauta.\n",
      "1928\n",
      "Dabar visa tai baigta, ir priverstinio kalbėjimo kardas nebekybo ties jo galva. Dabar jis gali rūpintis tik tuo, kas jam reikalinga, mąstyti tik tai, kas jam įdomu, ir savo mintis dėstyti ne atsitiktinai sutvarstytais žodžiais, bet užbaigtais, ritmiškais sakiniais. Jo mąstymas buvo susijęs su rašymu, vienas kitą skatino ir ugdė.\n",
      "1929\n",
      "— Ė, profesoriau! Kaip aš tau užjaučiu ir nepavydžiu tavo profesoriškos garbės! Tu turėsi ištisą valandą, o gal ir dvi kalbėti apie kokį nors menkavertį rašytojėlį arba iš mažų reiškinių pūsti dideles problemas. Aš tai bent pusę pamokos galėdavau mokinius klausinėti — ir tai įgrisdavo ligi gyvo kaulo. O kalbėti dvi valandas? Ne, tai pasiutimas!\n",
      "1930\n",
      "Sugrįžęs į Kauną, Liudas Vasaris tuojau norėjo sužinoti ką nors ir apie ponią Glaudžiuvienę. Tačiau niekas iš jo pažįstamų jokių žinių apie ją neturėjo. Tad vieną popietį jis pats pasiryžo ją atlankyti. Duris atidarė Adelė ir pranešė, kad nei ponios, nei pono nesą namie. Vasaris gero pažįstamo teisėm įėjo į salioną ir ėmė klausinėti kambarinę, kaip ponia praleidusi vasarą ir ar pagyvėjusi kiek nuo to laiko, kai jis paskutinį kartą buvo ją matęs.\n",
      "1931\n",
      "Pasirodė, kad ponios Liucijos nusiteikime daug kas pakitę. Porą savaičių ji dar vis liūdėjusi, iš namų žingsnio nežengusi ir niekam nesirodžiusi. Paskui vieną kartą išvažiavusi į Birštoną, o ją parlydėjęs namo, jau gana vėlai, kapitonas Raibys. Kitą dieną ponia atrodžiusi gyvesnė, pati per pusryčius prakalbėjusi ir paklaususi, ar labai ji per tą laiką paseno ir ar juoda suknelė jai tinkanti prie veido. Paskui kapitonas Raibys atsilankydavęs ir dažniau. Sėdėdavęs gana ilgai, o kartais abu išvažiuodavę visai dienai. Vieną kartą ponia smarkiai susiginčijus su ponu Glaudžium. Adelė sakėsi, kad jai net buvę baugu dėl to ginčo, nors žodžių ji gerai ir negirdėjusi. Dabar štai jau visa savaitė ponios nėra namie. O ponas užvakar keliom dienom išvažiavęs į Klaipėdą.\n",
      "1932\n",
      "— Svarbiausia, kad ponia Liucija nusikratė ta apatija ir nusiminimu, kuris ją galėjo pastūmėti net ir nusižudyti. Tas kapitonas Raibys, matyt, nepaprastai moka raminti nusiminusias moteris... Jeigu ji susikivirčino su Glaudžium ir abudu kažkur išdūmė, tai čia kvepia skyrybom. Nieko geresnio aš jai nė nelinkėčiau.\n",
      "1933\n",
      "Vasaris, taip kalbėdamas, norėjo save įtikinti, kad Liucija galų gale vėl kaip nors susitaikins su gyvenimu ir nebestovės kaip koks neišaiškinamas priekaištas tarp jo ir Auksės. Dabar jau jis nepavydėjo nei kapitonui Raibiui, nekaltino nei ponios Liucijos lengvabūdiškumu ir per greitu savo nelaimės pamiršimu. Tik kai jis atsimindavo aną vakarą, kaip juodu atsiskyrė ir su kokiu pasibjaurėjimu Liucija kalbėjo apie tuos savo adoratorius, blogas nujautimas vėl suspausdavo jo širdį. Ir jis nekantriai laukė naujų žinių.\n",
      "1934\n",
      "— Ponas Liudai, — kalbėjo ji, — aš noriu tamstai priminti vieną tamstos pasižadėjimą ir juo pasinaudoti. Kadaise, mane ramindamas, sakei, kad jei bus reikalas, visuomet esi pasiryžęs man padėti. Štai dabar tokis reikalas atsirado, ir aš prašau tamstos pagalbos — vienintelį ir paskutinį kartą. Prižadi?\n",
      "1935\n",
      "Šis kvietimas Vasarį labai nustebino. Kas per svečiai ir vaišės bus pas ponią Liuciją, nepraslinkus nė pusei metų po taip skaudžiai išgyventos sūnaus mirties? Kiek jis galėjo spėti iš Liucijos balso, ji anaiptol nebuvo nusiteikusi linksmai tą vakarą praleisti.\n",
      "1936\n",
      "Įžengęs į salioną, jis pamatė, kad nė vieno svečio dar nėra. Ponia Liucija iškilmingai sėdėjo sofoje ir, matyt, laukė. Ji buvo apsirengusi juodai, bet labai puošniai: auskarai, žiedai, batelių sagtukės blizgėjo gausioj elektros šviesoj. Nuogos rankos, gilus krūtinės iškirpimas ir šviesios kojinės žiauriu kontrastu skyrėsi iš gedulingo šydrinės suknelės juodumo. Taip skaisčiai paraudonytų Liucijos lūpų, taip baltai nupudruoto veido ir papieštų blakstienų Liudas dar niekad nebuvo pastebėjęs.\n",
      "1937\n",
      "Išsyk pasijutęs nejaukiai, Vasaris žengė gilyn, o ponia Liucija ištiesė jam ranką ir pasisodino prieš save fotely. Vasaris apsižvalgė. Salione stovėjo keletas stalelių, apkrautų užkandžiais ir stikleliais. Pro atdaras duris jis pamatė, kad ir valgomajam stalas taip pat paruoštas vaišėm. Tat, neslėpdamas savo nusistebėjimo, jis kreipėsi į ponią:\n",
      "1938\n",
      "Netrukus gatvėj suūžė automobilis ir sustojo prie durų. Prieškambary subirzgė skambutis ir sušneko daugelis balsų. Į salioną klegėdami įsibrovė dvi moterys ir keturi vyriškiai, iš kurių Vasaris pažinojo tik vieną kapitoną Raibį. Ponia Liucija nesijudino iš vietos, tad visi prieidami su ja sveikinosi ir būriavosi aplinkui.\n"
     ]
    }
   ],
   "source": [
    "# Extracting two most negative passages\n",
    "\n",
    "s2 = sorted( d.items(), key = lambda kv:kv[1] , reverse = False)\n",
    "indexes = sorted([i[0] for i in s2[0:50]])\n",
    "print(indexes)\n",
    "for i in indexes :\n",
    "    print(i)\n",
    "    print( text[i] )"
   ]
  },
  {
   "cell_type": "markdown",
   "metadata": {},
   "source": [
    "\n",
    "This reveals that that the lowest point in the book is the culmiantion of the protagonist's conflict between his calling as a prist and a poet. \n",
    "The highest point is when protagonist resolves the conflict and meets his future wife. \n",
    "The second dip is when the protagonist's chilhood friend,Liucė, dies. \n",
    "\n",
    "This is consistent with the expectations. "
   ]
  },
  {
   "cell_type": "markdown",
   "metadata": {},
   "source": [
    "**Summary**\n",
    "\n",
    "Appears that the sentiment analyser works and can be used to provide a new vantage point to analyse literature. "
   ]
  }
 ],
 "metadata": {
  "kernelspec": {
   "display_name": "Python 3",
   "language": "python",
   "name": "python3"
  },
  "language_info": {
   "codemirror_mode": {
    "name": "ipython",
    "version": 3
   },
   "file_extension": ".py",
   "mimetype": "text/x-python",
   "name": "python",
   "nbconvert_exporter": "python",
   "pygments_lexer": "ipython3",
   "version": "3.7.6"
  }
 },
 "nbformat": 4,
 "nbformat_minor": 2
}
